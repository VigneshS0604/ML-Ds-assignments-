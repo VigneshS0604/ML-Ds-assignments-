{
 "cells": [
  {
   "cell_type": "code",
   "execution_count": 20,
   "id": "576316a5",
   "metadata": {},
   "outputs": [],
   "source": [
    "import pandas as pd\n",
    "import numpy as np"
   ]
  },
  {
   "cell_type": "code",
   "execution_count": 21,
   "id": "db38844f",
   "metadata": {},
   "outputs": [],
   "source": [
    "dataset=pd.read_csv(\"Salary_Data_Based_country_and_race.csv\")"
   ]
  },
  {
   "cell_type": "code",
   "execution_count": 22,
   "id": "2557913e",
   "metadata": {},
   "outputs": [
    {
     "data": {
      "text/html": [
       "<div>\n",
       "<style scoped>\n",
       "    .dataframe tbody tr th:only-of-type {\n",
       "        vertical-align: middle;\n",
       "    }\n",
       "\n",
       "    .dataframe tbody tr th {\n",
       "        vertical-align: top;\n",
       "    }\n",
       "\n",
       "    .dataframe thead th {\n",
       "        text-align: right;\n",
       "    }\n",
       "</style>\n",
       "<table border=\"1\" class=\"dataframe\">\n",
       "  <thead>\n",
       "    <tr style=\"text-align: right;\">\n",
       "      <th></th>\n",
       "      <th>Si.NO</th>\n",
       "      <th>Age</th>\n",
       "      <th>Gender</th>\n",
       "      <th>Education Level</th>\n",
       "      <th>Job Title</th>\n",
       "      <th>Years of Experience</th>\n",
       "      <th>Salary</th>\n",
       "      <th>Country</th>\n",
       "    </tr>\n",
       "  </thead>\n",
       "  <tbody>\n",
       "    <tr>\n",
       "      <th>0</th>\n",
       "      <td>0</td>\n",
       "      <td>32.0</td>\n",
       "      <td>Male</td>\n",
       "      <td>Bachelor's</td>\n",
       "      <td>Software Engineer</td>\n",
       "      <td>5.0</td>\n",
       "      <td>90000.0</td>\n",
       "      <td>UK</td>\n",
       "    </tr>\n",
       "    <tr>\n",
       "      <th>1</th>\n",
       "      <td>1</td>\n",
       "      <td>28.0</td>\n",
       "      <td>Female</td>\n",
       "      <td>Master's</td>\n",
       "      <td>Data Analyst</td>\n",
       "      <td>3.0</td>\n",
       "      <td>65000.0</td>\n",
       "      <td>USA</td>\n",
       "    </tr>\n",
       "    <tr>\n",
       "      <th>2</th>\n",
       "      <td>2</td>\n",
       "      <td>45.0</td>\n",
       "      <td>Male</td>\n",
       "      <td>PhD</td>\n",
       "      <td>Senior Manager</td>\n",
       "      <td>15.0</td>\n",
       "      <td>150000.0</td>\n",
       "      <td>Canada</td>\n",
       "    </tr>\n",
       "    <tr>\n",
       "      <th>3</th>\n",
       "      <td>3</td>\n",
       "      <td>36.0</td>\n",
       "      <td>Female</td>\n",
       "      <td>Bachelor's</td>\n",
       "      <td>Sales Associate</td>\n",
       "      <td>7.0</td>\n",
       "      <td>60000.0</td>\n",
       "      <td>USA</td>\n",
       "    </tr>\n",
       "    <tr>\n",
       "      <th>4</th>\n",
       "      <td>4</td>\n",
       "      <td>52.0</td>\n",
       "      <td>Male</td>\n",
       "      <td>Master's</td>\n",
       "      <td>Director</td>\n",
       "      <td>20.0</td>\n",
       "      <td>200000.0</td>\n",
       "      <td>USA</td>\n",
       "    </tr>\n",
       "    <tr>\n",
       "      <th>...</th>\n",
       "      <td>...</td>\n",
       "      <td>...</td>\n",
       "      <td>...</td>\n",
       "      <td>...</td>\n",
       "      <td>...</td>\n",
       "      <td>...</td>\n",
       "      <td>...</td>\n",
       "      <td>...</td>\n",
       "    </tr>\n",
       "    <tr>\n",
       "      <th>6699</th>\n",
       "      <td>6699</td>\n",
       "      <td>49.0</td>\n",
       "      <td>Female</td>\n",
       "      <td>PhD</td>\n",
       "      <td>Director of Marketing</td>\n",
       "      <td>20.0</td>\n",
       "      <td>200000.0</td>\n",
       "      <td>UK</td>\n",
       "    </tr>\n",
       "    <tr>\n",
       "      <th>6700</th>\n",
       "      <td>6700</td>\n",
       "      <td>32.0</td>\n",
       "      <td>Male</td>\n",
       "      <td>High School</td>\n",
       "      <td>Sales Associate</td>\n",
       "      <td>3.0</td>\n",
       "      <td>50000.0</td>\n",
       "      <td>Australia</td>\n",
       "    </tr>\n",
       "    <tr>\n",
       "      <th>6701</th>\n",
       "      <td>6701</td>\n",
       "      <td>30.0</td>\n",
       "      <td>Female</td>\n",
       "      <td>Bachelor's Degree</td>\n",
       "      <td>Financial Manager</td>\n",
       "      <td>4.0</td>\n",
       "      <td>55000.0</td>\n",
       "      <td>China</td>\n",
       "    </tr>\n",
       "    <tr>\n",
       "      <th>6702</th>\n",
       "      <td>6702</td>\n",
       "      <td>46.0</td>\n",
       "      <td>Male</td>\n",
       "      <td>Master's Degree</td>\n",
       "      <td>Marketing Manager</td>\n",
       "      <td>14.0</td>\n",
       "      <td>140000.0</td>\n",
       "      <td>China</td>\n",
       "    </tr>\n",
       "    <tr>\n",
       "      <th>6703</th>\n",
       "      <td>6703</td>\n",
       "      <td>26.0</td>\n",
       "      <td>Female</td>\n",
       "      <td>High School</td>\n",
       "      <td>Sales Executive</td>\n",
       "      <td>1.0</td>\n",
       "      <td>35000.0</td>\n",
       "      <td>Canada</td>\n",
       "    </tr>\n",
       "  </tbody>\n",
       "</table>\n",
       "<p>6704 rows × 8 columns</p>\n",
       "</div>"
      ],
      "text/plain": [
       "      Si.NO   Age  Gender    Education Level              Job Title  \\\n",
       "0         0  32.0    Male         Bachelor's      Software Engineer   \n",
       "1         1  28.0  Female           Master's           Data Analyst   \n",
       "2         2  45.0    Male                PhD         Senior Manager   \n",
       "3         3  36.0  Female         Bachelor's        Sales Associate   \n",
       "4         4  52.0    Male           Master's               Director   \n",
       "...     ...   ...     ...                ...                    ...   \n",
       "6699   6699  49.0  Female                PhD  Director of Marketing   \n",
       "6700   6700  32.0    Male        High School        Sales Associate   \n",
       "6701   6701  30.0  Female  Bachelor's Degree      Financial Manager   \n",
       "6702   6702  46.0    Male    Master's Degree      Marketing Manager   \n",
       "6703   6703  26.0  Female        High School        Sales Executive   \n",
       "\n",
       "      Years of Experience    Salary    Country  \n",
       "0                     5.0   90000.0         UK  \n",
       "1                     3.0   65000.0        USA  \n",
       "2                    15.0  150000.0     Canada  \n",
       "3                     7.0   60000.0        USA  \n",
       "4                    20.0  200000.0        USA  \n",
       "...                   ...       ...        ...  \n",
       "6699                 20.0  200000.0         UK  \n",
       "6700                  3.0   50000.0  Australia  \n",
       "6701                  4.0   55000.0      China  \n",
       "6702                 14.0  140000.0      China  \n",
       "6703                  1.0   35000.0     Canada  \n",
       "\n",
       "[6704 rows x 8 columns]"
      ]
     },
     "execution_count": 22,
     "metadata": {},
     "output_type": "execute_result"
    }
   ],
   "source": [
    "dataset"
   ]
  },
  {
   "cell_type": "code",
   "execution_count": 23,
   "id": "01553106",
   "metadata": {},
   "outputs": [
    {
     "data": {
      "text/plain": [
       "Si.NO                    0\n",
       "Age                      2\n",
       "Gender                   2\n",
       "Education Level          3\n",
       "Job Title                2\n",
       "Years of Experience    123\n",
       "Salary                   5\n",
       "Country                  0\n",
       "dtype: int64"
      ]
     },
     "execution_count": 23,
     "metadata": {},
     "output_type": "execute_result"
    }
   ],
   "source": [
    "dataset.isna().sum()"
   ]
  },
  {
   "cell_type": "code",
   "execution_count": 24,
   "id": "4ab9aba3",
   "metadata": {},
   "outputs": [],
   "source": [
    "#sepreated the QuanQual dataset\n",
    "quan=[]\n",
    "qual=[]\n",
    "for columnsName in dataset.columns:\n",
    "    if(dataset[columnsName].dtype=='O'):\n",
    "        #print(\"qual\")\n",
    "        qual.append(columnsName)\n",
    "    else:\n",
    "        #print(\"quan\")\n",
    "        quan.append(columnsName)"
   ]
  },
  {
   "cell_type": "code",
   "execution_count": 25,
   "id": "175c8a24",
   "metadata": {},
   "outputs": [
    {
     "data": {
      "text/plain": [
       "Si.NO                    0\n",
       "Age                      2\n",
       "Years of Experience    123\n",
       "Salary                   5\n",
       "dtype: int64"
      ]
     },
     "execution_count": 25,
     "metadata": {},
     "output_type": "execute_result"
    }
   ],
   "source": [
    "dataset[quan].isna().sum()"
   ]
  },
  {
   "cell_type": "code",
   "execution_count": 26,
   "id": "e61f3da6",
   "metadata": {},
   "outputs": [
    {
     "data": {
      "text/plain": [
       "['Gender', 'Education Level', 'Job Title', 'Country']"
      ]
     },
     "execution_count": 26,
     "metadata": {},
     "output_type": "execute_result"
    }
   ],
   "source": [
    "qual"
   ]
  },
  {
   "cell_type": "code",
   "execution_count": 27,
   "id": "6ac5cf71",
   "metadata": {},
   "outputs": [
    {
     "data": {
      "text/plain": [
       "Gender             2\n",
       "Education Level    3\n",
       "Job Title          2\n",
       "Country            0\n",
       "dtype: int64"
      ]
     },
     "execution_count": 27,
     "metadata": {},
     "output_type": "execute_result"
    }
   ],
   "source": [
    "dataset[qual].isna().sum()"
   ]
  },
  {
   "cell_type": "code",
   "execution_count": 30,
   "id": "217f7173",
   "metadata": {},
   "outputs": [],
   "source": [
    "\n",
    "\n",
    "# Assuming 'dataset' is your DataFrame and 'qual' is the column name\n",
    "# Replace 'qual' with the actual column name you want to impute\n",
    "dataset[qual].fillna(dataset[qual].mode().iloc[0], inplace=True)\n"
   ]
  },
  {
   "cell_type": "code",
   "execution_count": 31,
   "id": "b8f9b9a5",
   "metadata": {},
   "outputs": [
    {
     "data": {
      "text/plain": [
       "Gender             2\n",
       "Education Level    3\n",
       "Job Title          2\n",
       "Country            0\n",
       "dtype: int64"
      ]
     },
     "execution_count": 31,
     "metadata": {},
     "output_type": "execute_result"
    }
   ],
   "source": [
    "dataset[qual].isna().sum()"
   ]
  },
  {
   "cell_type": "code",
   "execution_count": 32,
   "id": "c2b6850c",
   "metadata": {},
   "outputs": [
    {
     "data": {
      "text/plain": [
       "['Si.NO', 'Age', 'Years of Experience', 'Salary']"
      ]
     },
     "execution_count": 32,
     "metadata": {},
     "output_type": "execute_result"
    }
   ],
   "source": [
    "quan"
   ]
  },
  {
   "cell_type": "code",
   "execution_count": 33,
   "id": "f66fb513",
   "metadata": {},
   "outputs": [
    {
     "data": {
      "text/plain": [
       "Si.NO                    0\n",
       "Age                      2\n",
       "Years of Experience    123\n",
       "Salary                   5\n",
       "dtype: int64"
      ]
     },
     "execution_count": 33,
     "metadata": {},
     "output_type": "execute_result"
    }
   ],
   "source": [
    "dataset[quan].isna().sum()"
   ]
  },
  {
   "cell_type": "code",
   "execution_count": 34,
   "id": "9c3b6779",
   "metadata": {},
   "outputs": [],
   "source": [
    "dataset.fillna(dataset[\"Age\"].mean(),inplace=True)"
   ]
  },
  {
   "cell_type": "code",
   "execution_count": 35,
   "id": "49ac7fdf",
   "metadata": {},
   "outputs": [],
   "source": [
    "dataset.fillna(0, inplace=True)"
   ]
  },
  {
   "cell_type": "code",
   "execution_count": 36,
   "id": "c33f39d3",
   "metadata": {},
   "outputs": [
    {
     "data": {
      "text/plain": [
       "Si.NO                  0\n",
       "Age                    0\n",
       "Years of Experience    0\n",
       "Salary                 0\n",
       "dtype: int64"
      ]
     },
     "execution_count": 36,
     "metadata": {},
     "output_type": "execute_result"
    }
   ],
   "source": [
    "dataset[quan].isna().sum()"
   ]
  },
  {
   "cell_type": "code",
   "execution_count": 37,
   "id": "370d4e07",
   "metadata": {},
   "outputs": [],
   "source": [
    "preprocess=dataset"
   ]
  },
  {
   "cell_type": "code",
   "execution_count": 38,
   "id": "6e950730",
   "metadata": {},
   "outputs": [],
   "source": [
    "preprocess.to_csv(\"preprocessed\",index=False)"
   ]
  },
  {
   "cell_type": "code",
   "execution_count": 39,
   "id": "ddbfefed",
   "metadata": {},
   "outputs": [
    {
     "data": {
      "text/plain": [
       "Si.NO                  0\n",
       "Age                    0\n",
       "Gender                 0\n",
       "Education Level        0\n",
       "Job Title              0\n",
       "Years of Experience    0\n",
       "Salary                 0\n",
       "Country                0\n",
       "dtype: int64"
      ]
     },
     "execution_count": 39,
     "metadata": {},
     "output_type": "execute_result"
    }
   ],
   "source": [
    "preprocess.isna().sum()"
   ]
  },
  {
   "cell_type": "code",
   "execution_count": null,
   "id": "24dcbd69",
   "metadata": {},
   "outputs": [],
   "source": []
  },
  {
   "cell_type": "code",
   "execution_count": null,
   "id": "8759eea3",
   "metadata": {},
   "outputs": [],
   "source": []
  }
 ],
 "metadata": {
  "kernelspec": {
   "display_name": "Python 3 (ipykernel)",
   "language": "python",
   "name": "python3"
  },
  "language_info": {
   "codemirror_mode": {
    "name": "ipython",
    "version": 3
   },
   "file_extension": ".py",
   "mimetype": "text/x-python",
   "name": "python",
   "nbconvert_exporter": "python",
   "pygments_lexer": "ipython3",
   "version": "3.7.6"
  }
 },
 "nbformat": 4,
 "nbformat_minor": 5
}
