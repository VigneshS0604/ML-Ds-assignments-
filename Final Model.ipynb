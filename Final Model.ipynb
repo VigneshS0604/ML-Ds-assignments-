{
 "cells": [
  {
   "cell_type": "code",
   "execution_count": 1,
   "id": "049cce5d",
   "metadata": {
    "scrolled": true
   },
   "outputs": [
    {
     "name": "stderr",
     "output_type": "stream",
     "text": [
      "C:\\Users\\Muthu K\\AppData\\Local\\anaconda3\\envs\\aiml\\lib\\site-packages\\sklearn\\model_selection\\_split.py:1978: FutureWarning: The default value of cv will change from 3 to 5 in version 0.22. Specify it explicitly to silence this warning.\n",
      "  warnings.warn(CV_WARNING, FutureWarning)\n",
      "C:\\Users\\Muthu K\\AppData\\Local\\anaconda3\\envs\\aiml\\lib\\site-packages\\sklearn\\utils\\fixes.py:230: DeprecationWarning: distutils Version classes are deprecated. Use packaging.version instead.\n",
      "  if _joblib.__version__ >= LooseVersion('0.12'):\n"
     ]
    },
    {
     "name": "stdout",
     "output_type": "stream",
     "text": [
      "Fitting 3 folds for each of 12 candidates, totalling 36 fits\n",
      "[CV] criterion=mse, max_features=auto, n_estimators=10 ...............\n"
     ]
    },
    {
     "name": "stderr",
     "output_type": "stream",
     "text": [
      "C:\\Users\\Muthu K\\AppData\\Local\\anaconda3\\envs\\aiml\\lib\\site-packages\\sklearn\\utils\\fixes.py:230: DeprecationWarning: distutils Version classes are deprecated. Use packaging.version instead.\n",
      "  if _joblib.__version__ >= LooseVersion('0.12'):\n",
      "C:\\Users\\Muthu K\\AppData\\Local\\anaconda3\\envs\\aiml\\lib\\site-packages\\sklearn\\utils\\fixes.py:230: DeprecationWarning: distutils Version classes are deprecated. Use packaging.version instead.\n",
      "  if _joblib.__version__ >= LooseVersion('0.12'):\n"
     ]
    },
    {
     "name": "stdout",
     "output_type": "stream",
     "text": [
      "[CV]  criterion=mse, max_features=auto, n_estimators=10, score=0.986, total=   0.3s\n",
      "[CV] criterion=mse, max_features=auto, n_estimators=10 ...............\n"
     ]
    },
    {
     "name": "stderr",
     "output_type": "stream",
     "text": [
      "C:\\Users\\Muthu K\\AppData\\Local\\anaconda3\\envs\\aiml\\lib\\site-packages\\sklearn\\utils\\fixes.py:230: DeprecationWarning: distutils Version classes are deprecated. Use packaging.version instead.\n",
      "  if _joblib.__version__ >= LooseVersion('0.12'):\n",
      "C:\\Users\\Muthu K\\AppData\\Local\\anaconda3\\envs\\aiml\\lib\\site-packages\\sklearn\\utils\\fixes.py:230: DeprecationWarning: distutils Version classes are deprecated. Use packaging.version instead.\n",
      "  if _joblib.__version__ >= LooseVersion('0.12'):\n"
     ]
    },
    {
     "name": "stdout",
     "output_type": "stream",
     "text": [
      "[CV]  criterion=mse, max_features=auto, n_estimators=10, score=0.984, total=   0.3s\n",
      "[CV] criterion=mse, max_features=auto, n_estimators=10 ...............\n"
     ]
    },
    {
     "name": "stderr",
     "output_type": "stream",
     "text": [
      "C:\\Users\\Muthu K\\AppData\\Local\\anaconda3\\envs\\aiml\\lib\\site-packages\\sklearn\\utils\\fixes.py:230: DeprecationWarning: distutils Version classes are deprecated. Use packaging.version instead.\n",
      "  if _joblib.__version__ >= LooseVersion('0.12'):\n",
      "C:\\Users\\Muthu K\\AppData\\Local\\anaconda3\\envs\\aiml\\lib\\site-packages\\sklearn\\utils\\fixes.py:230: DeprecationWarning: distutils Version classes are deprecated. Use packaging.version instead.\n",
      "  if _joblib.__version__ >= LooseVersion('0.12'):\n"
     ]
    },
    {
     "name": "stdout",
     "output_type": "stream",
     "text": [
      "[CV]  criterion=mse, max_features=auto, n_estimators=10, score=0.985, total=   0.3s\n",
      "[CV] criterion=mse, max_features=auto, n_estimators=100 ..............\n"
     ]
    },
    {
     "name": "stderr",
     "output_type": "stream",
     "text": [
      "C:\\Users\\Muthu K\\AppData\\Local\\anaconda3\\envs\\aiml\\lib\\site-packages\\sklearn\\utils\\fixes.py:230: DeprecationWarning: distutils Version classes are deprecated. Use packaging.version instead.\n",
      "  if _joblib.__version__ >= LooseVersion('0.12'):\n",
      "C:\\Users\\Muthu K\\AppData\\Local\\anaconda3\\envs\\aiml\\lib\\site-packages\\sklearn\\utils\\fixes.py:230: DeprecationWarning: distutils Version classes are deprecated. Use packaging.version instead.\n",
      "  if _joblib.__version__ >= LooseVersion('0.12'):\n"
     ]
    },
    {
     "name": "stdout",
     "output_type": "stream",
     "text": [
      "[CV]  criterion=mse, max_features=auto, n_estimators=100, score=0.985, total=   2.3s\n",
      "[CV] criterion=mse, max_features=auto, n_estimators=100 ..............\n"
     ]
    },
    {
     "name": "stderr",
     "output_type": "stream",
     "text": [
      "C:\\Users\\Muthu K\\AppData\\Local\\anaconda3\\envs\\aiml\\lib\\site-packages\\sklearn\\utils\\fixes.py:230: DeprecationWarning: distutils Version classes are deprecated. Use packaging.version instead.\n",
      "  if _joblib.__version__ >= LooseVersion('0.12'):\n",
      "C:\\Users\\Muthu K\\AppData\\Local\\anaconda3\\envs\\aiml\\lib\\site-packages\\sklearn\\utils\\fixes.py:230: DeprecationWarning: distutils Version classes are deprecated. Use packaging.version instead.\n",
      "  if _joblib.__version__ >= LooseVersion('0.12'):\n"
     ]
    },
    {
     "name": "stdout",
     "output_type": "stream",
     "text": [
      "[CV]  criterion=mse, max_features=auto, n_estimators=100, score=0.985, total=   2.7s\n",
      "[CV] criterion=mse, max_features=auto, n_estimators=100 ..............\n"
     ]
    },
    {
     "name": "stderr",
     "output_type": "stream",
     "text": [
      "C:\\Users\\Muthu K\\AppData\\Local\\anaconda3\\envs\\aiml\\lib\\site-packages\\sklearn\\utils\\fixes.py:230: DeprecationWarning: distutils Version classes are deprecated. Use packaging.version instead.\n",
      "  if _joblib.__version__ >= LooseVersion('0.12'):\n",
      "C:\\Users\\Muthu K\\AppData\\Local\\anaconda3\\envs\\aiml\\lib\\site-packages\\sklearn\\utils\\fixes.py:230: DeprecationWarning: distutils Version classes are deprecated. Use packaging.version instead.\n",
      "  if _joblib.__version__ >= LooseVersion('0.12'):\n",
      "C:\\Users\\Muthu K\\AppData\\Local\\anaconda3\\envs\\aiml\\lib\\site-packages\\sklearn\\utils\\fixes.py:230: DeprecationWarning: distutils Version classes are deprecated. Use packaging.version instead.\n",
      "  if _joblib.__version__ >= LooseVersion('0.12'):\n",
      "C:\\Users\\Muthu K\\AppData\\Local\\anaconda3\\envs\\aiml\\lib\\site-packages\\sklearn\\utils\\fixes.py:230: DeprecationWarning: distutils Version classes are deprecated. Use packaging.version instead.\n",
      "  if _joblib.__version__ >= LooseVersion('0.12'):\n"
     ]
    },
    {
     "name": "stdout",
     "output_type": "stream",
     "text": [
      "[CV]  criterion=mse, max_features=auto, n_estimators=100, score=0.987, total=   2.6s\n",
      "[CV] criterion=mse, max_features=sqrt, n_estimators=10 ...............\n",
      "[CV]  criterion=mse, max_features=sqrt, n_estimators=10, score=0.961, total=   0.1s\n",
      "[CV] criterion=mse, max_features=sqrt, n_estimators=10 ...............\n"
     ]
    },
    {
     "name": "stderr",
     "output_type": "stream",
     "text": [
      "C:\\Users\\Muthu K\\AppData\\Local\\anaconda3\\envs\\aiml\\lib\\site-packages\\sklearn\\utils\\fixes.py:230: DeprecationWarning: distutils Version classes are deprecated. Use packaging.version instead.\n",
      "  if _joblib.__version__ >= LooseVersion('0.12'):\n",
      "C:\\Users\\Muthu K\\AppData\\Local\\anaconda3\\envs\\aiml\\lib\\site-packages\\sklearn\\utils\\fixes.py:230: DeprecationWarning: distutils Version classes are deprecated. Use packaging.version instead.\n",
      "  if _joblib.__version__ >= LooseVersion('0.12'):\n",
      "C:\\Users\\Muthu K\\AppData\\Local\\anaconda3\\envs\\aiml\\lib\\site-packages\\sklearn\\utils\\fixes.py:230: DeprecationWarning: distutils Version classes are deprecated. Use packaging.version instead.\n",
      "  if _joblib.__version__ >= LooseVersion('0.12'):\n",
      "C:\\Users\\Muthu K\\AppData\\Local\\anaconda3\\envs\\aiml\\lib\\site-packages\\sklearn\\utils\\fixes.py:230: DeprecationWarning: distutils Version classes are deprecated. Use packaging.version instead.\n",
      "  if _joblib.__version__ >= LooseVersion('0.12'):\n"
     ]
    },
    {
     "name": "stdout",
     "output_type": "stream",
     "text": [
      "[CV]  criterion=mse, max_features=sqrt, n_estimators=10, score=0.968, total=   0.1s\n",
      "[CV] criterion=mse, max_features=sqrt, n_estimators=10 ...............\n",
      "[CV]  criterion=mse, max_features=sqrt, n_estimators=10, score=0.968, total=   0.1s\n",
      "[CV] criterion=mse, max_features=sqrt, n_estimators=100 ..............\n"
     ]
    },
    {
     "name": "stderr",
     "output_type": "stream",
     "text": [
      "C:\\Users\\Muthu K\\AppData\\Local\\anaconda3\\envs\\aiml\\lib\\site-packages\\sklearn\\utils\\fixes.py:230: DeprecationWarning: distutils Version classes are deprecated. Use packaging.version instead.\n",
      "  if _joblib.__version__ >= LooseVersion('0.12'):\n",
      "C:\\Users\\Muthu K\\AppData\\Local\\anaconda3\\envs\\aiml\\lib\\site-packages\\sklearn\\utils\\fixes.py:230: DeprecationWarning: distutils Version classes are deprecated. Use packaging.version instead.\n",
      "  if _joblib.__version__ >= LooseVersion('0.12'):\n"
     ]
    },
    {
     "name": "stdout",
     "output_type": "stream",
     "text": [
      "[CV]  criterion=mse, max_features=sqrt, n_estimators=100, score=0.965, total=   1.0s\n",
      "[CV] criterion=mse, max_features=sqrt, n_estimators=100 ..............\n"
     ]
    },
    {
     "name": "stderr",
     "output_type": "stream",
     "text": [
      "C:\\Users\\Muthu K\\AppData\\Local\\anaconda3\\envs\\aiml\\lib\\site-packages\\sklearn\\utils\\fixes.py:230: DeprecationWarning: distutils Version classes are deprecated. Use packaging.version instead.\n",
      "  if _joblib.__version__ >= LooseVersion('0.12'):\n",
      "C:\\Users\\Muthu K\\AppData\\Local\\anaconda3\\envs\\aiml\\lib\\site-packages\\sklearn\\utils\\fixes.py:230: DeprecationWarning: distutils Version classes are deprecated. Use packaging.version instead.\n",
      "  if _joblib.__version__ >= LooseVersion('0.12'):\n"
     ]
    },
    {
     "name": "stdout",
     "output_type": "stream",
     "text": [
      "[CV]  criterion=mse, max_features=sqrt, n_estimators=100, score=0.975, total=   1.0s\n",
      "[CV] criterion=mse, max_features=sqrt, n_estimators=100 ..............\n"
     ]
    },
    {
     "name": "stderr",
     "output_type": "stream",
     "text": [
      "C:\\Users\\Muthu K\\AppData\\Local\\anaconda3\\envs\\aiml\\lib\\site-packages\\sklearn\\utils\\fixes.py:230: DeprecationWarning: distutils Version classes are deprecated. Use packaging.version instead.\n",
      "  if _joblib.__version__ >= LooseVersion('0.12'):\n",
      "C:\\Users\\Muthu K\\AppData\\Local\\anaconda3\\envs\\aiml\\lib\\site-packages\\sklearn\\utils\\fixes.py:230: DeprecationWarning: distutils Version classes are deprecated. Use packaging.version instead.\n",
      "  if _joblib.__version__ >= LooseVersion('0.12'):\n",
      "C:\\Users\\Muthu K\\AppData\\Local\\anaconda3\\envs\\aiml\\lib\\site-packages\\sklearn\\utils\\fixes.py:230: DeprecationWarning: distutils Version classes are deprecated. Use packaging.version instead.\n",
      "  if _joblib.__version__ >= LooseVersion('0.12'):\n",
      "C:\\Users\\Muthu K\\AppData\\Local\\anaconda3\\envs\\aiml\\lib\\site-packages\\sklearn\\utils\\fixes.py:230: DeprecationWarning: distutils Version classes are deprecated. Use packaging.version instead.\n",
      "  if _joblib.__version__ >= LooseVersion('0.12'):\n"
     ]
    },
    {
     "name": "stdout",
     "output_type": "stream",
     "text": [
      "[CV]  criterion=mse, max_features=sqrt, n_estimators=100, score=0.976, total=   1.0s\n",
      "[CV] criterion=mse, max_features=log2, n_estimators=10 ...............\n",
      "[CV]  criterion=mse, max_features=log2, n_estimators=10, score=0.950, total=   0.1s\n",
      "[CV] criterion=mse, max_features=log2, n_estimators=10 ...............\n"
     ]
    },
    {
     "name": "stderr",
     "output_type": "stream",
     "text": [
      "C:\\Users\\Muthu K\\AppData\\Local\\anaconda3\\envs\\aiml\\lib\\site-packages\\sklearn\\utils\\fixes.py:230: DeprecationWarning: distutils Version classes are deprecated. Use packaging.version instead.\n",
      "  if _joblib.__version__ >= LooseVersion('0.12'):\n",
      "C:\\Users\\Muthu K\\AppData\\Local\\anaconda3\\envs\\aiml\\lib\\site-packages\\sklearn\\utils\\fixes.py:230: DeprecationWarning: distutils Version classes are deprecated. Use packaging.version instead.\n",
      "  if _joblib.__version__ >= LooseVersion('0.12'):\n",
      "C:\\Users\\Muthu K\\AppData\\Local\\anaconda3\\envs\\aiml\\lib\\site-packages\\sklearn\\utils\\fixes.py:230: DeprecationWarning: distutils Version classes are deprecated. Use packaging.version instead.\n",
      "  if _joblib.__version__ >= LooseVersion('0.12'):\n",
      "C:\\Users\\Muthu K\\AppData\\Local\\anaconda3\\envs\\aiml\\lib\\site-packages\\sklearn\\utils\\fixes.py:230: DeprecationWarning: distutils Version classes are deprecated. Use packaging.version instead.\n",
      "  if _joblib.__version__ >= LooseVersion('0.12'):\n"
     ]
    },
    {
     "name": "stdout",
     "output_type": "stream",
     "text": [
      "[CV]  criterion=mse, max_features=log2, n_estimators=10, score=0.962, total=   0.1s\n",
      "[CV] criterion=mse, max_features=log2, n_estimators=10 ...............\n",
      "[CV]  criterion=mse, max_features=log2, n_estimators=10, score=0.964, total=   0.1s\n",
      "[CV] criterion=mse, max_features=log2, n_estimators=100 ..............\n"
     ]
    },
    {
     "name": "stderr",
     "output_type": "stream",
     "text": [
      "C:\\Users\\Muthu K\\AppData\\Local\\anaconda3\\envs\\aiml\\lib\\site-packages\\sklearn\\utils\\fixes.py:230: DeprecationWarning: distutils Version classes are deprecated. Use packaging.version instead.\n",
      "  if _joblib.__version__ >= LooseVersion('0.12'):\n",
      "C:\\Users\\Muthu K\\AppData\\Local\\anaconda3\\envs\\aiml\\lib\\site-packages\\sklearn\\utils\\fixes.py:230: DeprecationWarning: distutils Version classes are deprecated. Use packaging.version instead.\n",
      "  if _joblib.__version__ >= LooseVersion('0.12'):\n"
     ]
    },
    {
     "name": "stdout",
     "output_type": "stream",
     "text": [
      "[CV]  criterion=mse, max_features=log2, n_estimators=100, score=0.957, total=   1.0s\n",
      "[CV] criterion=mse, max_features=log2, n_estimators=100 ..............\n"
     ]
    },
    {
     "name": "stderr",
     "output_type": "stream",
     "text": [
      "C:\\Users\\Muthu K\\AppData\\Local\\anaconda3\\envs\\aiml\\lib\\site-packages\\sklearn\\utils\\fixes.py:230: DeprecationWarning: distutils Version classes are deprecated. Use packaging.version instead.\n",
      "  if _joblib.__version__ >= LooseVersion('0.12'):\n",
      "C:\\Users\\Muthu K\\AppData\\Local\\anaconda3\\envs\\aiml\\lib\\site-packages\\sklearn\\utils\\fixes.py:230: DeprecationWarning: distutils Version classes are deprecated. Use packaging.version instead.\n",
      "  if _joblib.__version__ >= LooseVersion('0.12'):\n"
     ]
    },
    {
     "name": "stdout",
     "output_type": "stream",
     "text": [
      "[CV]  criterion=mse, max_features=log2, n_estimators=100, score=0.970, total=   1.0s\n",
      "[CV] criterion=mse, max_features=log2, n_estimators=100 ..............\n"
     ]
    },
    {
     "name": "stderr",
     "output_type": "stream",
     "text": [
      "C:\\Users\\Muthu K\\AppData\\Local\\anaconda3\\envs\\aiml\\lib\\site-packages\\sklearn\\utils\\fixes.py:230: DeprecationWarning: distutils Version classes are deprecated. Use packaging.version instead.\n",
      "  if _joblib.__version__ >= LooseVersion('0.12'):\n",
      "C:\\Users\\Muthu K\\AppData\\Local\\anaconda3\\envs\\aiml\\lib\\site-packages\\sklearn\\utils\\fixes.py:230: DeprecationWarning: distutils Version classes are deprecated. Use packaging.version instead.\n",
      "  if _joblib.__version__ >= LooseVersion('0.12'):\n"
     ]
    },
    {
     "name": "stdout",
     "output_type": "stream",
     "text": [
      "[CV]  criterion=mse, max_features=log2, n_estimators=100, score=0.969, total=   1.0s\n",
      "[CV] criterion=mae, max_features=auto, n_estimators=10 ...............\n"
     ]
    },
    {
     "name": "stderr",
     "output_type": "stream",
     "text": [
      "C:\\Users\\Muthu K\\AppData\\Local\\anaconda3\\envs\\aiml\\lib\\site-packages\\sklearn\\utils\\fixes.py:230: DeprecationWarning: distutils Version classes are deprecated. Use packaging.version instead.\n",
      "  if _joblib.__version__ >= LooseVersion('0.12'):\n",
      "C:\\Users\\Muthu K\\AppData\\Local\\anaconda3\\envs\\aiml\\lib\\site-packages\\sklearn\\utils\\fixes.py:230: DeprecationWarning: distutils Version classes are deprecated. Use packaging.version instead.\n",
      "  if _joblib.__version__ >= LooseVersion('0.12'):\n"
     ]
    },
    {
     "name": "stdout",
     "output_type": "stream",
     "text": [
      "[CV]  criterion=mae, max_features=auto, n_estimators=10, score=0.986, total=  12.3s\n",
      "[CV] criterion=mae, max_features=auto, n_estimators=10 ...............\n"
     ]
    },
    {
     "name": "stderr",
     "output_type": "stream",
     "text": [
      "C:\\Users\\Muthu K\\AppData\\Local\\anaconda3\\envs\\aiml\\lib\\site-packages\\sklearn\\utils\\fixes.py:230: DeprecationWarning: distutils Version classes are deprecated. Use packaging.version instead.\n",
      "  if _joblib.__version__ >= LooseVersion('0.12'):\n",
      "C:\\Users\\Muthu K\\AppData\\Local\\anaconda3\\envs\\aiml\\lib\\site-packages\\sklearn\\utils\\fixes.py:230: DeprecationWarning: distutils Version classes are deprecated. Use packaging.version instead.\n",
      "  if _joblib.__version__ >= LooseVersion('0.12'):\n"
     ]
    },
    {
     "name": "stdout",
     "output_type": "stream",
     "text": [
      "[CV]  criterion=mae, max_features=auto, n_estimators=10, score=0.982, total=  12.0s\n",
      "[CV] criterion=mae, max_features=auto, n_estimators=10 ...............\n"
     ]
    },
    {
     "name": "stderr",
     "output_type": "stream",
     "text": [
      "C:\\Users\\Muthu K\\AppData\\Local\\anaconda3\\envs\\aiml\\lib\\site-packages\\sklearn\\utils\\fixes.py:230: DeprecationWarning: distutils Version classes are deprecated. Use packaging.version instead.\n",
      "  if _joblib.__version__ >= LooseVersion('0.12'):\n",
      "C:\\Users\\Muthu K\\AppData\\Local\\anaconda3\\envs\\aiml\\lib\\site-packages\\sklearn\\utils\\fixes.py:230: DeprecationWarning: distutils Version classes are deprecated. Use packaging.version instead.\n",
      "  if _joblib.__version__ >= LooseVersion('0.12'):\n"
     ]
    },
    {
     "name": "stdout",
     "output_type": "stream",
     "text": [
      "[CV]  criterion=mae, max_features=auto, n_estimators=10, score=0.984, total=  12.1s\n",
      "[CV] criterion=mae, max_features=auto, n_estimators=100 ..............\n"
     ]
    },
    {
     "name": "stderr",
     "output_type": "stream",
     "text": [
      "C:\\Users\\Muthu K\\AppData\\Local\\anaconda3\\envs\\aiml\\lib\\site-packages\\sklearn\\utils\\fixes.py:230: DeprecationWarning: distutils Version classes are deprecated. Use packaging.version instead.\n",
      "  if _joblib.__version__ >= LooseVersion('0.12'):\n",
      "C:\\Users\\Muthu K\\AppData\\Local\\anaconda3\\envs\\aiml\\lib\\site-packages\\sklearn\\utils\\fixes.py:230: DeprecationWarning: distutils Version classes are deprecated. Use packaging.version instead.\n",
      "  if _joblib.__version__ >= LooseVersion('0.12'):\n"
     ]
    },
    {
     "name": "stdout",
     "output_type": "stream",
     "text": [
      "[CV]  criterion=mae, max_features=auto, n_estimators=100, score=0.986, total= 2.0min\n",
      "[CV] criterion=mae, max_features=auto, n_estimators=100 ..............\n"
     ]
    },
    {
     "name": "stderr",
     "output_type": "stream",
     "text": [
      "C:\\Users\\Muthu K\\AppData\\Local\\anaconda3\\envs\\aiml\\lib\\site-packages\\sklearn\\utils\\fixes.py:230: DeprecationWarning: distutils Version classes are deprecated. Use packaging.version instead.\n",
      "  if _joblib.__version__ >= LooseVersion('0.12'):\n",
      "C:\\Users\\Muthu K\\AppData\\Local\\anaconda3\\envs\\aiml\\lib\\site-packages\\sklearn\\utils\\fixes.py:230: DeprecationWarning: distutils Version classes are deprecated. Use packaging.version instead.\n",
      "  if _joblib.__version__ >= LooseVersion('0.12'):\n"
     ]
    },
    {
     "name": "stdout",
     "output_type": "stream",
     "text": [
      "[CV]  criterion=mae, max_features=auto, n_estimators=100, score=0.983, total= 2.1min\n",
      "[CV] criterion=mae, max_features=auto, n_estimators=100 ..............\n"
     ]
    },
    {
     "name": "stderr",
     "output_type": "stream",
     "text": [
      "C:\\Users\\Muthu K\\AppData\\Local\\anaconda3\\envs\\aiml\\lib\\site-packages\\sklearn\\utils\\fixes.py:230: DeprecationWarning: distutils Version classes are deprecated. Use packaging.version instead.\n",
      "  if _joblib.__version__ >= LooseVersion('0.12'):\n",
      "C:\\Users\\Muthu K\\AppData\\Local\\anaconda3\\envs\\aiml\\lib\\site-packages\\sklearn\\utils\\fixes.py:230: DeprecationWarning: distutils Version classes are deprecated. Use packaging.version instead.\n",
      "  if _joblib.__version__ >= LooseVersion('0.12'):\n"
     ]
    },
    {
     "name": "stdout",
     "output_type": "stream",
     "text": [
      "[CV]  criterion=mae, max_features=auto, n_estimators=100, score=0.986, total= 2.0min\n",
      "[CV] criterion=mae, max_features=sqrt, n_estimators=10 ...............\n"
     ]
    },
    {
     "name": "stderr",
     "output_type": "stream",
     "text": [
      "C:\\Users\\Muthu K\\AppData\\Local\\anaconda3\\envs\\aiml\\lib\\site-packages\\sklearn\\utils\\fixes.py:230: DeprecationWarning: distutils Version classes are deprecated. Use packaging.version instead.\n",
      "  if _joblib.__version__ >= LooseVersion('0.12'):\n",
      "C:\\Users\\Muthu K\\AppData\\Local\\anaconda3\\envs\\aiml\\lib\\site-packages\\sklearn\\utils\\fixes.py:230: DeprecationWarning: distutils Version classes are deprecated. Use packaging.version instead.\n",
      "  if _joblib.__version__ >= LooseVersion('0.12'):\n"
     ]
    },
    {
     "name": "stdout",
     "output_type": "stream",
     "text": [
      "[CV]  criterion=mae, max_features=sqrt, n_estimators=10, score=0.948, total=   1.9s\n",
      "[CV] criterion=mae, max_features=sqrt, n_estimators=10 ...............\n"
     ]
    },
    {
     "name": "stderr",
     "output_type": "stream",
     "text": [
      "C:\\Users\\Muthu K\\AppData\\Local\\anaconda3\\envs\\aiml\\lib\\site-packages\\sklearn\\utils\\fixes.py:230: DeprecationWarning: distutils Version classes are deprecated. Use packaging.version instead.\n",
      "  if _joblib.__version__ >= LooseVersion('0.12'):\n",
      "C:\\Users\\Muthu K\\AppData\\Local\\anaconda3\\envs\\aiml\\lib\\site-packages\\sklearn\\utils\\fixes.py:230: DeprecationWarning: distutils Version classes are deprecated. Use packaging.version instead.\n",
      "  if _joblib.__version__ >= LooseVersion('0.12'):\n"
     ]
    },
    {
     "name": "stdout",
     "output_type": "stream",
     "text": [
      "[CV]  criterion=mae, max_features=sqrt, n_estimators=10, score=0.952, total=   1.9s\n",
      "[CV] criterion=mae, max_features=sqrt, n_estimators=10 ...............\n"
     ]
    },
    {
     "name": "stderr",
     "output_type": "stream",
     "text": [
      "C:\\Users\\Muthu K\\AppData\\Local\\anaconda3\\envs\\aiml\\lib\\site-packages\\sklearn\\utils\\fixes.py:230: DeprecationWarning: distutils Version classes are deprecated. Use packaging.version instead.\n",
      "  if _joblib.__version__ >= LooseVersion('0.12'):\n",
      "C:\\Users\\Muthu K\\AppData\\Local\\anaconda3\\envs\\aiml\\lib\\site-packages\\sklearn\\utils\\fixes.py:230: DeprecationWarning: distutils Version classes are deprecated. Use packaging.version instead.\n",
      "  if _joblib.__version__ >= LooseVersion('0.12'):\n"
     ]
    },
    {
     "name": "stdout",
     "output_type": "stream",
     "text": [
      "[CV]  criterion=mae, max_features=sqrt, n_estimators=10, score=0.961, total=   1.9s\n",
      "[CV] criterion=mae, max_features=sqrt, n_estimators=100 ..............\n"
     ]
    },
    {
     "name": "stderr",
     "output_type": "stream",
     "text": [
      "C:\\Users\\Muthu K\\AppData\\Local\\anaconda3\\envs\\aiml\\lib\\site-packages\\sklearn\\utils\\fixes.py:230: DeprecationWarning: distutils Version classes are deprecated. Use packaging.version instead.\n",
      "  if _joblib.__version__ >= LooseVersion('0.12'):\n",
      "C:\\Users\\Muthu K\\AppData\\Local\\anaconda3\\envs\\aiml\\lib\\site-packages\\sklearn\\utils\\fixes.py:230: DeprecationWarning: distutils Version classes are deprecated. Use packaging.version instead.\n",
      "  if _joblib.__version__ >= LooseVersion('0.12'):\n"
     ]
    },
    {
     "name": "stdout",
     "output_type": "stream",
     "text": [
      "[CV]  criterion=mae, max_features=sqrt, n_estimators=100, score=0.958, total=  21.9s\n",
      "[CV] criterion=mae, max_features=sqrt, n_estimators=100 ..............\n"
     ]
    },
    {
     "name": "stderr",
     "output_type": "stream",
     "text": [
      "C:\\Users\\Muthu K\\AppData\\Local\\anaconda3\\envs\\aiml\\lib\\site-packages\\sklearn\\utils\\fixes.py:230: DeprecationWarning: distutils Version classes are deprecated. Use packaging.version instead.\n",
      "  if _joblib.__version__ >= LooseVersion('0.12'):\n",
      "C:\\Users\\Muthu K\\AppData\\Local\\anaconda3\\envs\\aiml\\lib\\site-packages\\sklearn\\utils\\fixes.py:230: DeprecationWarning: distutils Version classes are deprecated. Use packaging.version instead.\n",
      "  if _joblib.__version__ >= LooseVersion('0.12'):\n"
     ]
    },
    {
     "name": "stdout",
     "output_type": "stream",
     "text": [
      "[CV]  criterion=mae, max_features=sqrt, n_estimators=100, score=0.968, total=  20.7s\n",
      "[CV] criterion=mae, max_features=sqrt, n_estimators=100 ..............\n"
     ]
    },
    {
     "name": "stderr",
     "output_type": "stream",
     "text": [
      "C:\\Users\\Muthu K\\AppData\\Local\\anaconda3\\envs\\aiml\\lib\\site-packages\\sklearn\\utils\\fixes.py:230: DeprecationWarning: distutils Version classes are deprecated. Use packaging.version instead.\n",
      "  if _joblib.__version__ >= LooseVersion('0.12'):\n",
      "C:\\Users\\Muthu K\\AppData\\Local\\anaconda3\\envs\\aiml\\lib\\site-packages\\sklearn\\utils\\fixes.py:230: DeprecationWarning: distutils Version classes are deprecated. Use packaging.version instead.\n",
      "  if _joblib.__version__ >= LooseVersion('0.12'):\n"
     ]
    },
    {
     "name": "stdout",
     "output_type": "stream",
     "text": [
      "[CV]  criterion=mae, max_features=sqrt, n_estimators=100, score=0.965, total=  21.9s\n",
      "[CV] criterion=mae, max_features=log2, n_estimators=10 ...............\n"
     ]
    },
    {
     "name": "stderr",
     "output_type": "stream",
     "text": [
      "C:\\Users\\Muthu K\\AppData\\Local\\anaconda3\\envs\\aiml\\lib\\site-packages\\sklearn\\utils\\fixes.py:230: DeprecationWarning: distutils Version classes are deprecated. Use packaging.version instead.\n",
      "  if _joblib.__version__ >= LooseVersion('0.12'):\n",
      "[Parallel(n_jobs=1)]: Done  31 tasks      | elapsed:  8.1min\n",
      "C:\\Users\\Muthu K\\AppData\\Local\\anaconda3\\envs\\aiml\\lib\\site-packages\\sklearn\\utils\\fixes.py:230: DeprecationWarning: distutils Version classes are deprecated. Use packaging.version instead.\n",
      "  if _joblib.__version__ >= LooseVersion('0.12'):\n"
     ]
    },
    {
     "name": "stdout",
     "output_type": "stream",
     "text": [
      "[CV]  criterion=mae, max_features=log2, n_estimators=10, score=0.924, total=   1.9s\n",
      "[CV] criterion=mae, max_features=log2, n_estimators=10 ...............\n"
     ]
    },
    {
     "name": "stderr",
     "output_type": "stream",
     "text": [
      "C:\\Users\\Muthu K\\AppData\\Local\\anaconda3\\envs\\aiml\\lib\\site-packages\\sklearn\\utils\\fixes.py:230: DeprecationWarning: distutils Version classes are deprecated. Use packaging.version instead.\n",
      "  if _joblib.__version__ >= LooseVersion('0.12'):\n",
      "C:\\Users\\Muthu K\\AppData\\Local\\anaconda3\\envs\\aiml\\lib\\site-packages\\sklearn\\utils\\fixes.py:230: DeprecationWarning: distutils Version classes are deprecated. Use packaging.version instead.\n",
      "  if _joblib.__version__ >= LooseVersion('0.12'):\n"
     ]
    },
    {
     "name": "stdout",
     "output_type": "stream",
     "text": [
      "[CV]  criterion=mae, max_features=log2, n_estimators=10, score=0.946, total=   1.9s\n",
      "[CV] criterion=mae, max_features=log2, n_estimators=10 ...............\n"
     ]
    },
    {
     "name": "stderr",
     "output_type": "stream",
     "text": [
      "C:\\Users\\Muthu K\\AppData\\Local\\anaconda3\\envs\\aiml\\lib\\site-packages\\sklearn\\utils\\fixes.py:230: DeprecationWarning: distutils Version classes are deprecated. Use packaging.version instead.\n",
      "  if _joblib.__version__ >= LooseVersion('0.12'):\n",
      "C:\\Users\\Muthu K\\AppData\\Local\\anaconda3\\envs\\aiml\\lib\\site-packages\\sklearn\\utils\\fixes.py:230: DeprecationWarning: distutils Version classes are deprecated. Use packaging.version instead.\n",
      "  if _joblib.__version__ >= LooseVersion('0.12'):\n"
     ]
    },
    {
     "name": "stdout",
     "output_type": "stream",
     "text": [
      "[CV]  criterion=mae, max_features=log2, n_estimators=10, score=0.943, total=   1.7s\n",
      "[CV] criterion=mae, max_features=log2, n_estimators=100 ..............\n"
     ]
    },
    {
     "name": "stderr",
     "output_type": "stream",
     "text": [
      "C:\\Users\\Muthu K\\AppData\\Local\\anaconda3\\envs\\aiml\\lib\\site-packages\\sklearn\\utils\\fixes.py:230: DeprecationWarning: distutils Version classes are deprecated. Use packaging.version instead.\n",
      "  if _joblib.__version__ >= LooseVersion('0.12'):\n",
      "C:\\Users\\Muthu K\\AppData\\Local\\anaconda3\\envs\\aiml\\lib\\site-packages\\sklearn\\utils\\fixes.py:230: DeprecationWarning: distutils Version classes are deprecated. Use packaging.version instead.\n",
      "  if _joblib.__version__ >= LooseVersion('0.12'):\n"
     ]
    },
    {
     "name": "stdout",
     "output_type": "stream",
     "text": [
      "[CV]  criterion=mae, max_features=log2, n_estimators=100, score=0.946, total=  17.9s\n",
      "[CV] criterion=mae, max_features=log2, n_estimators=100 ..............\n"
     ]
    },
    {
     "name": "stderr",
     "output_type": "stream",
     "text": [
      "C:\\Users\\Muthu K\\AppData\\Local\\anaconda3\\envs\\aiml\\lib\\site-packages\\sklearn\\utils\\fixes.py:230: DeprecationWarning: distutils Version classes are deprecated. Use packaging.version instead.\n",
      "  if _joblib.__version__ >= LooseVersion('0.12'):\n",
      "C:\\Users\\Muthu K\\AppData\\Local\\anaconda3\\envs\\aiml\\lib\\site-packages\\sklearn\\utils\\fixes.py:230: DeprecationWarning: distutils Version classes are deprecated. Use packaging.version instead.\n",
      "  if _joblib.__version__ >= LooseVersion('0.12'):\n"
     ]
    },
    {
     "name": "stdout",
     "output_type": "stream",
     "text": [
      "[CV]  criterion=mae, max_features=log2, n_estimators=100, score=0.954, total=  19.8s\n",
      "[CV] criterion=mae, max_features=log2, n_estimators=100 ..............\n"
     ]
    },
    {
     "name": "stderr",
     "output_type": "stream",
     "text": [
      "C:\\Users\\Muthu K\\AppData\\Local\\anaconda3\\envs\\aiml\\lib\\site-packages\\sklearn\\utils\\fixes.py:230: DeprecationWarning: distutils Version classes are deprecated. Use packaging.version instead.\n",
      "  if _joblib.__version__ >= LooseVersion('0.12'):\n",
      "C:\\Users\\Muthu K\\AppData\\Local\\anaconda3\\envs\\aiml\\lib\\site-packages\\sklearn\\utils\\fixes.py:230: DeprecationWarning: distutils Version classes are deprecated. Use packaging.version instead.\n",
      "  if _joblib.__version__ >= LooseVersion('0.12'):\n"
     ]
    },
    {
     "name": "stdout",
     "output_type": "stream",
     "text": [
      "[CV]  criterion=mae, max_features=log2, n_estimators=100, score=0.945, total=  18.1s\n"
     ]
    }
   ],
   "source": [
    "import numpy as np\n",
    "import pandas as pd\n",
    "from sklearn.model_selection import train_test_split\n",
    "from sklearn.ensemble import RandomForestRegressor\n",
    "from sklearn.preprocessing import StandardScaler\n",
    "from sklearn.metrics import r2_score\n",
    "from sklearn.model_selection import GridSearchCV\n",
    "\n",
    "# Load the preprocessed dataset\n",
    "dataset = pd.read_csv(\"preprocessed\")\n",
    "\n",
    "# Create dummy variables for categorical columns\n",
    "dataset = pd.get_dummies(dataset, drop_first=True)\n",
    "\n",
    "# Separate features and target variable\n",
    "indep_X = dataset.drop(columns=['Salary'])\n",
    "dep_Y = dataset['Salary']\n",
    "\n",
    "# Split the dataset into training and testing sets\n",
    "x_train, x_test, y_train, y_test = train_test_split(indep_X, dep_Y, test_size=0.30, random_state=5)\n",
    "\n",
    "# Standardize the features\n",
    "sc = StandardScaler()\n",
    "x_train = sc.fit_transform(x_train)\n",
    "x_test = sc.transform(x_test)\n",
    "\n",
    "# Define the parameter grid for GridSearchCV\n",
    "param_grid = {\n",
    "    'criterion': ['mse', 'mae'],\n",
    "    'max_features': ['auto', 'sqrt', 'log2'],\n",
    "    'n_estimators': [10, 100]\n",
    "}\n",
    "\n",
    "# Perform GridSearchCV to find the best parameters for RandomForestRegressor\n",
    "grid = GridSearchCV(RandomForestRegressor(), param_grid, refit=True, verbose=3, n_jobs=1)\n",
    "grid.fit(x_train, y_train)\n",
    "\n",
    "\n",
    "# Get the best estimator from GridSearchCV\n",
    "final_model = grid.best_estimator_\n",
    "\n"
   ]
  },
  {
   "cell_type": "code",
   "execution_count": 2,
   "id": "b1464e67",
   "metadata": {},
   "outputs": [
    {
     "name": "stdout",
     "output_type": "stream",
     "text": [
      "The R_score value for best parameter {'criterion': 'mse', 'max_features': 'auto', 'n_estimators': 100}: 0.985343632918796\n"
     ]
    },
    {
     "name": "stderr",
     "output_type": "stream",
     "text": [
      "C:\\Users\\Muthu K\\AppData\\Local\\anaconda3\\envs\\aiml\\lib\\site-packages\\sklearn\\utils\\fixes.py:230: DeprecationWarning: distutils Version classes are deprecated. Use packaging.version instead.\n",
      "  if _joblib.__version__ >= LooseVersion('0.12'):\n"
     ]
    }
   ],
   "source": [
    "re=grid.cv_results_\n",
    "#print(re)\n",
    "grid_predictions = grid.predict(x_test)\n",
    "# print classification report\n",
    "from sklearn.metrics import r2_score\n",
    "r_score=r2_score(y_test,grid_predictions)\n",
    "print(\"The R_score value for best parameter {}:\".format(grid.best_params_),r_score)"
   ]
  },
  {
   "cell_type": "code",
   "execution_count": 3,
   "id": "c383e22f",
   "metadata": {},
   "outputs": [
    {
     "data": {
      "text/html": [
       "<div>\n",
       "<style scoped>\n",
       "    .dataframe tbody tr th:only-of-type {\n",
       "        vertical-align: middle;\n",
       "    }\n",
       "\n",
       "    .dataframe tbody tr th {\n",
       "        vertical-align: top;\n",
       "    }\n",
       "\n",
       "    .dataframe thead th {\n",
       "        text-align: right;\n",
       "    }\n",
       "</style>\n",
       "<table border=\"1\" class=\"dataframe\">\n",
       "  <thead>\n",
       "    <tr style=\"text-align: right;\">\n",
       "      <th></th>\n",
       "      <th>mean_fit_time</th>\n",
       "      <th>std_fit_time</th>\n",
       "      <th>mean_score_time</th>\n",
       "      <th>std_score_time</th>\n",
       "      <th>param_criterion</th>\n",
       "      <th>param_max_features</th>\n",
       "      <th>param_n_estimators</th>\n",
       "      <th>params</th>\n",
       "      <th>split0_test_score</th>\n",
       "      <th>split1_test_score</th>\n",
       "      <th>split2_test_score</th>\n",
       "      <th>mean_test_score</th>\n",
       "      <th>std_test_score</th>\n",
       "      <th>rank_test_score</th>\n",
       "    </tr>\n",
       "  </thead>\n",
       "  <tbody>\n",
       "    <tr>\n",
       "      <th>0</th>\n",
       "      <td>0.275514</td>\n",
       "      <td>0.031485</td>\n",
       "      <td>0.006332</td>\n",
       "      <td>9.381339e-04</td>\n",
       "      <td>mse</td>\n",
       "      <td>auto</td>\n",
       "      <td>10</td>\n",
       "      <td>{'criterion': 'mse', 'max_features': 'auto', '...</td>\n",
       "      <td>0.986179</td>\n",
       "      <td>0.984242</td>\n",
       "      <td>0.985181</td>\n",
       "      <td>0.985201</td>\n",
       "      <td>0.000791</td>\n",
       "      <td>3</td>\n",
       "    </tr>\n",
       "    <tr>\n",
       "      <th>1</th>\n",
       "      <td>2.508789</td>\n",
       "      <td>0.172299</td>\n",
       "      <td>0.033860</td>\n",
       "      <td>1.460041e-03</td>\n",
       "      <td>mse</td>\n",
       "      <td>auto</td>\n",
       "      <td>100</td>\n",
       "      <td>{'criterion': 'mse', 'max_features': 'auto', '...</td>\n",
       "      <td>0.985204</td>\n",
       "      <td>0.984631</td>\n",
       "      <td>0.987370</td>\n",
       "      <td>0.985735</td>\n",
       "      <td>0.001180</td>\n",
       "      <td>1</td>\n",
       "    </tr>\n",
       "    <tr>\n",
       "      <th>2</th>\n",
       "      <td>0.115918</td>\n",
       "      <td>0.007685</td>\n",
       "      <td>0.004877</td>\n",
       "      <td>2.269447e-03</td>\n",
       "      <td>mse</td>\n",
       "      <td>sqrt</td>\n",
       "      <td>10</td>\n",
       "      <td>{'criterion': 'mse', 'max_features': 'sqrt', '...</td>\n",
       "      <td>0.960786</td>\n",
       "      <td>0.968099</td>\n",
       "      <td>0.968427</td>\n",
       "      <td>0.965770</td>\n",
       "      <td>0.003527</td>\n",
       "      <td>6</td>\n",
       "    </tr>\n",
       "    <tr>\n",
       "      <th>3</th>\n",
       "      <td>0.966597</td>\n",
       "      <td>0.013294</td>\n",
       "      <td>0.038161</td>\n",
       "      <td>1.630544e-03</td>\n",
       "      <td>mse</td>\n",
       "      <td>sqrt</td>\n",
       "      <td>100</td>\n",
       "      <td>{'criterion': 'mse', 'max_features': 'sqrt', '...</td>\n",
       "      <td>0.965466</td>\n",
       "      <td>0.975062</td>\n",
       "      <td>0.975525</td>\n",
       "      <td>0.972017</td>\n",
       "      <td>0.004636</td>\n",
       "      <td>5</td>\n",
       "    </tr>\n",
       "    <tr>\n",
       "      <th>4</th>\n",
       "      <td>0.108024</td>\n",
       "      <td>0.005355</td>\n",
       "      <td>0.005701</td>\n",
       "      <td>9.158639e-04</td>\n",
       "      <td>mse</td>\n",
       "      <td>log2</td>\n",
       "      <td>10</td>\n",
       "      <td>{'criterion': 'mse', 'max_features': 'log2', '...</td>\n",
       "      <td>0.950309</td>\n",
       "      <td>0.962421</td>\n",
       "      <td>0.963627</td>\n",
       "      <td>0.958786</td>\n",
       "      <td>0.006014</td>\n",
       "      <td>9</td>\n",
       "    </tr>\n",
       "    <tr>\n",
       "      <th>5</th>\n",
       "      <td>0.980019</td>\n",
       "      <td>0.025992</td>\n",
       "      <td>0.040690</td>\n",
       "      <td>3.445579e-03</td>\n",
       "      <td>mse</td>\n",
       "      <td>log2</td>\n",
       "      <td>100</td>\n",
       "      <td>{'criterion': 'mse', 'max_features': 'log2', '...</td>\n",
       "      <td>0.957184</td>\n",
       "      <td>0.970061</td>\n",
       "      <td>0.968542</td>\n",
       "      <td>0.965262</td>\n",
       "      <td>0.005745</td>\n",
       "      <td>7</td>\n",
       "    </tr>\n",
       "    <tr>\n",
       "      <th>6</th>\n",
       "      <td>12.129077</td>\n",
       "      <td>0.134839</td>\n",
       "      <td>0.003047</td>\n",
       "      <td>2.975358e-03</td>\n",
       "      <td>mae</td>\n",
       "      <td>auto</td>\n",
       "      <td>10</td>\n",
       "      <td>{'criterion': 'mae', 'max_features': 'auto', '...</td>\n",
       "      <td>0.986106</td>\n",
       "      <td>0.981704</td>\n",
       "      <td>0.984193</td>\n",
       "      <td>0.984001</td>\n",
       "      <td>0.001802</td>\n",
       "      <td>4</td>\n",
       "    </tr>\n",
       "    <tr>\n",
       "      <th>7</th>\n",
       "      <td>121.048657</td>\n",
       "      <td>3.403523</td>\n",
       "      <td>0.032280</td>\n",
       "      <td>1.450414e-03</td>\n",
       "      <td>mae</td>\n",
       "      <td>auto</td>\n",
       "      <td>100</td>\n",
       "      <td>{'criterion': 'mae', 'max_features': 'auto', '...</td>\n",
       "      <td>0.986088</td>\n",
       "      <td>0.983465</td>\n",
       "      <td>0.986341</td>\n",
       "      <td>0.985298</td>\n",
       "      <td>0.001301</td>\n",
       "      <td>2</td>\n",
       "    </tr>\n",
       "    <tr>\n",
       "      <th>8</th>\n",
       "      <td>1.913219</td>\n",
       "      <td>0.029597</td>\n",
       "      <td>0.005209</td>\n",
       "      <td>7.366145e-03</td>\n",
       "      <td>mae</td>\n",
       "      <td>sqrt</td>\n",
       "      <td>10</td>\n",
       "      <td>{'criterion': 'mae', 'max_features': 'sqrt', '...</td>\n",
       "      <td>0.948378</td>\n",
       "      <td>0.952067</td>\n",
       "      <td>0.961438</td>\n",
       "      <td>0.953961</td>\n",
       "      <td>0.005497</td>\n",
       "      <td>10</td>\n",
       "    </tr>\n",
       "    <tr>\n",
       "      <th>9</th>\n",
       "      <td>21.455162</td>\n",
       "      <td>0.543345</td>\n",
       "      <td>0.031256</td>\n",
       "      <td>2.928658e-06</td>\n",
       "      <td>mae</td>\n",
       "      <td>sqrt</td>\n",
       "      <td>100</td>\n",
       "      <td>{'criterion': 'mae', 'max_features': 'sqrt', '...</td>\n",
       "      <td>0.958057</td>\n",
       "      <td>0.968401</td>\n",
       "      <td>0.965308</td>\n",
       "      <td>0.963922</td>\n",
       "      <td>0.004335</td>\n",
       "      <td>8</td>\n",
       "    </tr>\n",
       "    <tr>\n",
       "      <th>10</th>\n",
       "      <td>1.817641</td>\n",
       "      <td>0.103116</td>\n",
       "      <td>0.015630</td>\n",
       "      <td>7.786718e-07</td>\n",
       "      <td>mae</td>\n",
       "      <td>log2</td>\n",
       "      <td>10</td>\n",
       "      <td>{'criterion': 'mae', 'max_features': 'log2', '...</td>\n",
       "      <td>0.924367</td>\n",
       "      <td>0.945566</td>\n",
       "      <td>0.942860</td>\n",
       "      <td>0.937598</td>\n",
       "      <td>0.009421</td>\n",
       "      <td>12</td>\n",
       "    </tr>\n",
       "    <tr>\n",
       "      <th>11</th>\n",
       "      <td>18.527637</td>\n",
       "      <td>0.853636</td>\n",
       "      <td>0.036782</td>\n",
       "      <td>7.149198e-03</td>\n",
       "      <td>mae</td>\n",
       "      <td>log2</td>\n",
       "      <td>100</td>\n",
       "      <td>{'criterion': 'mae', 'max_features': 'log2', '...</td>\n",
       "      <td>0.946209</td>\n",
       "      <td>0.953829</td>\n",
       "      <td>0.945380</td>\n",
       "      <td>0.948472</td>\n",
       "      <td>0.003802</td>\n",
       "      <td>11</td>\n",
       "    </tr>\n",
       "  </tbody>\n",
       "</table>\n",
       "</div>"
      ],
      "text/plain": [
       "    mean_fit_time  std_fit_time  mean_score_time  std_score_time  \\\n",
       "0        0.275514      0.031485         0.006332    9.381339e-04   \n",
       "1        2.508789      0.172299         0.033860    1.460041e-03   \n",
       "2        0.115918      0.007685         0.004877    2.269447e-03   \n",
       "3        0.966597      0.013294         0.038161    1.630544e-03   \n",
       "4        0.108024      0.005355         0.005701    9.158639e-04   \n",
       "5        0.980019      0.025992         0.040690    3.445579e-03   \n",
       "6       12.129077      0.134839         0.003047    2.975358e-03   \n",
       "7      121.048657      3.403523         0.032280    1.450414e-03   \n",
       "8        1.913219      0.029597         0.005209    7.366145e-03   \n",
       "9       21.455162      0.543345         0.031256    2.928658e-06   \n",
       "10       1.817641      0.103116         0.015630    7.786718e-07   \n",
       "11      18.527637      0.853636         0.036782    7.149198e-03   \n",
       "\n",
       "   param_criterion param_max_features param_n_estimators  \\\n",
       "0              mse               auto                 10   \n",
       "1              mse               auto                100   \n",
       "2              mse               sqrt                 10   \n",
       "3              mse               sqrt                100   \n",
       "4              mse               log2                 10   \n",
       "5              mse               log2                100   \n",
       "6              mae               auto                 10   \n",
       "7              mae               auto                100   \n",
       "8              mae               sqrt                 10   \n",
       "9              mae               sqrt                100   \n",
       "10             mae               log2                 10   \n",
       "11             mae               log2                100   \n",
       "\n",
       "                                               params  split0_test_score  \\\n",
       "0   {'criterion': 'mse', 'max_features': 'auto', '...           0.986179   \n",
       "1   {'criterion': 'mse', 'max_features': 'auto', '...           0.985204   \n",
       "2   {'criterion': 'mse', 'max_features': 'sqrt', '...           0.960786   \n",
       "3   {'criterion': 'mse', 'max_features': 'sqrt', '...           0.965466   \n",
       "4   {'criterion': 'mse', 'max_features': 'log2', '...           0.950309   \n",
       "5   {'criterion': 'mse', 'max_features': 'log2', '...           0.957184   \n",
       "6   {'criterion': 'mae', 'max_features': 'auto', '...           0.986106   \n",
       "7   {'criterion': 'mae', 'max_features': 'auto', '...           0.986088   \n",
       "8   {'criterion': 'mae', 'max_features': 'sqrt', '...           0.948378   \n",
       "9   {'criterion': 'mae', 'max_features': 'sqrt', '...           0.958057   \n",
       "10  {'criterion': 'mae', 'max_features': 'log2', '...           0.924367   \n",
       "11  {'criterion': 'mae', 'max_features': 'log2', '...           0.946209   \n",
       "\n",
       "    split1_test_score  split2_test_score  mean_test_score  std_test_score  \\\n",
       "0            0.984242           0.985181         0.985201        0.000791   \n",
       "1            0.984631           0.987370         0.985735        0.001180   \n",
       "2            0.968099           0.968427         0.965770        0.003527   \n",
       "3            0.975062           0.975525         0.972017        0.004636   \n",
       "4            0.962421           0.963627         0.958786        0.006014   \n",
       "5            0.970061           0.968542         0.965262        0.005745   \n",
       "6            0.981704           0.984193         0.984001        0.001802   \n",
       "7            0.983465           0.986341         0.985298        0.001301   \n",
       "8            0.952067           0.961438         0.953961        0.005497   \n",
       "9            0.968401           0.965308         0.963922        0.004335   \n",
       "10           0.945566           0.942860         0.937598        0.009421   \n",
       "11           0.953829           0.945380         0.948472        0.003802   \n",
       "\n",
       "    rank_test_score  \n",
       "0                 3  \n",
       "1                 1  \n",
       "2                 6  \n",
       "3                 5  \n",
       "4                 9  \n",
       "5                 7  \n",
       "6                 4  \n",
       "7                 2  \n",
       "8                10  \n",
       "9                 8  \n",
       "10               12  \n",
       "11               11  "
      ]
     },
     "execution_count": 3,
     "metadata": {},
     "output_type": "execute_result"
    }
   ],
   "source": [
    "table=pd.DataFrame.from_dict(re)\n",
    "table"
   ]
  },
  {
   "cell_type": "code",
   "execution_count": null,
   "id": "a400ae3e",
   "metadata": {},
   "outputs": [],
   "source": []
  },
  {
   "cell_type": "code",
   "execution_count": 8,
   "id": "0637cc4a",
   "metadata": {},
   "outputs": [
    {
     "name": "stdout",
     "output_type": "stream",
     "text": [
      "Age:35\n",
      "Years of Experience:14\n",
      "Gender (0 for Male, 1 for Female, 2 for Other):0\n",
      "Education Level (0 for Bachelor's, 1 for Bachelor's Degree, 2 for High School, 3 for Master's, 4 for Master's Degree, 5 for PhD): 5\n",
      "Job Title Level (0 for Account Manager, 1 for Accountant, etc.):90\n",
      "Country (0 for Canada, 1 for China, 2 for UK, 3 for USA):3\n",
      "Education Level mapping for input 5 not found.\n",
      "Future Prediction: [110507.64104297]\n"
     ]
    },
    {
     "name": "stderr",
     "output_type": "stream",
     "text": [
      "C:\\Users\\Muthu K\\AppData\\Local\\anaconda3\\envs\\aiml\\lib\\site-packages\\sklearn\\utils\\fixes.py:230: DeprecationWarning: distutils Version classes are deprecated. Use packaging.version instead.\n",
      "  if _joblib.__version__ >= LooseVersion('0.12'):\n"
     ]
    }
   ],
   "source": [
    "# User input\n",
    "age_input = float(input(\"Age:\"))\n",
    "Years_of_Experience_input = float(input(\"Years of Experience:\"))\n",
    "Gender_input = int(input(\"Gender (0 for Male, 1 for Female, 2 for Other):\"))\n",
    "Education_Level_input = int(input(\"Education Level (0 for Bachelor's, 1 for Bachelor's Degree, 2 for High School, 3 for Master's, 4 for Master's Degree, 5 for PhD): \"))\n",
    "Job_Title_level_input = int(input(\"Job Title Level (0 for Account Manager, 1 for Accountant, etc.):\"))\n",
    "Country_input = int(input(\"Country (0 for Canada, 1 for China, 2 for UK, 3 for USA):\"))\n",
    "\n",
    "# Get the list of all columns from your original dataset\n",
    "all_columns = dataset.columns.tolist()\n",
    "\n",
    "# Initialize an array with zeros to fill other columns\n",
    "other_columns = np.zeros(len(all_columns))\n",
    "\n",
    "# Set the user input values in the corresponding positions\n",
    "other_columns[all_columns.index('Age')] = age_input\n",
    "other_columns[all_columns.index('Years of Experience')] = Years_of_Experience_input\n",
    "gender_mapping = {\n",
    "    0: 'Gender_Male',\n",
    "    1: 'Gender_Female',\n",
    "    2: 'Gender_Other'\n",
    "}\n",
    "gender_column = gender_mapping.get(Gender_input)\n",
    "if gender_column is not None:\n",
    "    other_columns[all_columns.index(gender_column)] = 1\n",
    "else:\n",
    "    print(f\"Gender mapping for input {Gender_input} not found.\")\n",
    "\n",
    "# Map Education Level input to appropriate column\n",
    "education_mapping = {\n",
    "    0: \"Education Level_Bachelor's\",\n",
    "    1: \"Education Level_Bachelor's Degree\",\n",
    "    2: \"Education Level_High School\",\n",
    "    3: \"Education Level_Master's\",\n",
    "    4: \"Education Level_Master's Degree\",\n",
    "    5: \"Education Level_PhD\"\n",
    "}\n",
    "education_column = education_mapping.get(Education_Level_input)\n",
    "if education_column is not None:\n",
    "    other_columns[all_columns.index(education_column)] = 1\n",
    "else:\n",
    "    print(f\"Education Level mapping for input {Education_Level_input} not found.\")\n",
    "# Map Education Level input to appropriate column\n",
    "Job_title_mapping = Job_title_mapping = {\n",
    "    0: 'Job Title_Account Manager',\n",
    "    1: 'Job Title_Accountant',\n",
    "    # ... (other job titles)\n",
    "    'Job Title_Web Developer': 92,  # Assuming 92 is the index of the 'Job Title' column\n",
    "}\n",
    "Job_title_column = Job_title_mapping.get(Job_Title_level_input)\n",
    "if Job_title_column is not None:\n",
    "    other_columns[all_columns.index(Job_title_column)] = 1\n",
    "else:\n",
    "    print(f\"Education Level mapping for input {Education_Level_input} not found.\")\n",
    "# Map Education Level input to appropriate column\n",
    "# Assuming you've defined Country_mapping\n",
    "Country_mapping = {\n",
    "    0: 'Canada',\n",
    "    1: 'China',\n",
    "    2: 'UK',\n",
    "    3: 'USA'\n",
    "}\n",
    "\n",
    "Country = Country_mapping.get(Country_input)\n",
    "if Country is not None:\n",
    "    country_column = f'Country_{Country}'\n",
    "    other_columns[all_columns.index(country_column)] = 1\n",
    "else:\n",
    "    print(f\"Country mapping for input {Country_input} not found.\")\n",
    "\n",
    "# ... (Similar mapping and setting for other inputs)\n",
    "\n",
    "# Reshape the input features to match the model's expectations\n",
    "input_features_reshaped = sc.transform([other_columns[:-1]])  # Exclude the last column\n",
    "\n",
    "# Make a prediction using the trained final_model\n",
    "Future_Prediction = final_model.predict(input_features_reshaped)\n",
    "\n",
    "print(\"Future Prediction:\", Future_Prediction)"
   ]
  },
  {
   "cell_type": "code",
   "execution_count": null,
   "id": "65a3cc06",
   "metadata": {},
   "outputs": [],
   "source": []
  },
  {
   "cell_type": "code",
   "execution_count": null,
   "id": "ea051e7e",
   "metadata": {},
   "outputs": [],
   "source": []
  }
 ],
 "metadata": {
  "kernelspec": {
   "display_name": "Python 3 (ipykernel)",
   "language": "python",
   "name": "python3"
  },
  "language_info": {
   "codemirror_mode": {
    "name": "ipython",
    "version": 3
   },
   "file_extension": ".py",
   "mimetype": "text/x-python",
   "name": "python",
   "nbconvert_exporter": "python",
   "pygments_lexer": "ipython3",
   "version": "3.7.6"
  }
 },
 "nbformat": 4,
 "nbformat_minor": 5
}
